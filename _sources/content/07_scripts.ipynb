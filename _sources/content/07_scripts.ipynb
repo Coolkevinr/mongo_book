{
 "cells": [
  {
   "cell_type": "markdown",
   "id": "adaptive-origin",
   "metadata": {},
   "source": [
    "# Effectuer des requêtes depuis des programmes Python ou R\n",
    "\n",
    "## Requêtes depuis Python : `pymongo`\n",
    "\n",
    "* Auteurs/trices : **TODO**\n",
    "\n",
    "Comment faire pour effectuer les requêtes présentes dans les chapitres 1 à 6 avec `pymongo` ?\n",
    "\n",
    "Le fichier que vous devez modifier pour ce chapitre est `mongo_book/content/07_scripts.md`.\n",
    "\n",
    "Petit exemple ici d'utilisation de `pymongo` :"
   ]
  },
  {
   "cell_type": "code",
   "execution_count": 1,
   "id": "natural-canal",
   "metadata": {},
   "outputs": [
    {
     "data": {
      "text/plain": [
       "<pymongo.cursor.Cursor at 0x7ff2ec0a25e0>"
      ]
     },
     "execution_count": 1,
     "metadata": {},
     "output_type": "execute_result"
    }
   ],
   "source": [
    "from pymongo import MongoClient\n",
    "\n",
    "client = MongoClient(host=\"localhost\", port=27017)\n",
    "db = client.food\n",
    "\n",
    "db.NYfood.find({\"name\": \"/^A/\"})"
   ]
  },
  {
   "cell_type": "markdown",
   "id": "arctic-health",
   "metadata": {},
   "source": [
    "## Requêtes depuis R : `mongolite`\n",
    "\n",
    "* Auteurs/trices : **TODO**\n",
    "\n",
    "Comment faire pour effectuer les requêtes présentes dans les chapitres 1 à 6 avec `mongolite` ?\n",
    "\n",
    "Le fichier que vous devez modifier pour ce chapitre est `mongo_book/content/07_scripts.md`."
   ]
  },
  {
   "cell_type": "code",
   "execution_count": 2,
   "id": "three-seventh",
   "metadata": {
    "tags": [
     "hide-cell"
    ]
   },
   "outputs": [
    {
     "name": "stderr",
     "output_type": "stream",
     "text": [
      "/opt/hostedtoolcache/Python/3.8.7/x64/lib/python3.8/site-packages/rpy2/ipython/rmagic.py:81: UserWarning: The Python package `pandas` is strongly recommended when using `rpy2.ipython`. Unfortunately it could not be loaded, as we did not manage to load `numpy` in the first place (error: No module named 'numpy').\n",
      "  warnings.warn('The Python package `pandas` is strongly '\n"
     ]
    }
   ],
   "source": [
    "%load_ext rpy2.ipython"
   ]
  },
  {
   "cell_type": "code",
   "execution_count": 3,
   "id": "furnished-heritage",
   "metadata": {},
   "outputs": [
    {
     "name": "stdout",
     "output_type": "stream",
     "text": [
      "<Mongo collection> 'NYfood'"
     ]
    },
    {
     "name": "stdout",
     "output_type": "stream",
     "text": [
      " "
     ]
    },
    {
     "name": "stdout",
     "output_type": "stream",
     "text": [
      "\n"
     ]
    },
    {
     "name": "stdout",
     "output_type": "stream",
     "text": [
      " $aggregate(pipeline = \"{}\", options = \"{\\\"allowDiskUse\\\":true}\", handler = NULL, pagesize = 1000, iterate = FALSE) "
     ]
    },
    {
     "name": "stdout",
     "output_type": "stream",
     "text": [
      "\n"
     ]
    },
    {
     "name": "stdout",
     "output_type": "stream",
     "text": [
      " $count(query = \"{}\") "
     ]
    },
    {
     "name": "stdout",
     "output_type": "stream",
     "text": [
      "\n"
     ]
    },
    {
     "name": "stdout",
     "output_type": "stream",
     "text": [
      " $disconnect(gc = TRUE) "
     ]
    },
    {
     "name": "stdout",
     "output_type": "stream",
     "text": [
      "\n"
     ]
    },
    {
     "name": "stdout",
     "output_type": "stream",
     "text": [
      " $distinct(key, query = \"{}\") "
     ]
    },
    {
     "name": "stdout",
     "output_type": "stream",
     "text": [
      "\n"
     ]
    },
    {
     "name": "stdout",
     "output_type": "stream",
     "text": [
      " $drop() "
     ]
    },
    {
     "name": "stdout",
     "output_type": "stream",
     "text": [
      "\n"
     ]
    },
    {
     "name": "stdout",
     "output_type": "stream",
     "text": [
      " $export(con = stdout(), bson = FALSE, query = \"{}\", fields = \"{}\", sort = \"{\\\"_id\\\":1}\") "
     ]
    },
    {
     "name": "stdout",
     "output_type": "stream",
     "text": [
      "\n"
     ]
    },
    {
     "name": "stdout",
     "output_type": "stream",
     "text": [
      " $find(query = \"{}\", fields = \"{\\\"_id\\\":0}\", sort = \"{}\", skip = 0, limit = 0, handler = NULL, pagesize = 1000) "
     ]
    },
    {
     "name": "stdout",
     "output_type": "stream",
     "text": [
      "\n"
     ]
    },
    {
     "name": "stdout",
     "output_type": "stream",
     "text": [
      " $import(con, bson = FALSE) "
     ]
    },
    {
     "name": "stdout",
     "output_type": "stream",
     "text": [
      "\n"
     ]
    },
    {
     "name": "stdout",
     "output_type": "stream",
     "text": [
      " $index(add = NULL, remove = NULL) "
     ]
    },
    {
     "name": "stdout",
     "output_type": "stream",
     "text": [
      "\n"
     ]
    },
    {
     "name": "stdout",
     "output_type": "stream",
     "text": [
      " $info() "
     ]
    },
    {
     "name": "stdout",
     "output_type": "stream",
     "text": [
      "\n"
     ]
    },
    {
     "name": "stdout",
     "output_type": "stream",
     "text": [
      " $insert(data, pagesize = 1000, stop_on_error = TRUE, ...) "
     ]
    },
    {
     "name": "stdout",
     "output_type": "stream",
     "text": [
      "\n"
     ]
    },
    {
     "name": "stdout",
     "output_type": "stream",
     "text": [
      " $iterate(query = \"{}\", fields = \"{\\\"_id\\\":0}\", sort = \"{}\", skip = 0, limit = 0) "
     ]
    },
    {
     "name": "stdout",
     "output_type": "stream",
     "text": [
      "\n"
     ]
    },
    {
     "name": "stdout",
     "output_type": "stream",
     "text": [
      " $mapreduce(map, reduce, query = \"{}\", sort = \"{}\", limit = 0, out = NULL, scope = NULL) "
     ]
    },
    {
     "name": "stdout",
     "output_type": "stream",
     "text": [
      "\n"
     ]
    },
    {
     "name": "stdout",
     "output_type": "stream",
     "text": [
      " $remove(query, just_one = FALSE) "
     ]
    },
    {
     "name": "stdout",
     "output_type": "stream",
     "text": [
      "\n"
     ]
    },
    {
     "name": "stdout",
     "output_type": "stream",
     "text": [
      " $rename(name, db = NULL) "
     ]
    },
    {
     "name": "stdout",
     "output_type": "stream",
     "text": [
      "\n"
     ]
    },
    {
     "name": "stdout",
     "output_type": "stream",
     "text": [
      " $replace(query, update = \"{}\", upsert = FALSE) "
     ]
    },
    {
     "name": "stdout",
     "output_type": "stream",
     "text": [
      "\n"
     ]
    },
    {
     "name": "stdout",
     "output_type": "stream",
     "text": [
      " $run(command = \"{\\\"ping\\\": 1}\", simplify = TRUE) "
     ]
    },
    {
     "name": "stdout",
     "output_type": "stream",
     "text": [
      "\n"
     ]
    },
    {
     "name": "stdout",
     "output_type": "stream",
     "text": [
      " $update(query, update = \"{\\\"$set\\\":{}}\", filters = NULL, upsert = FALSE, multiple = FALSE) "
     ]
    },
    {
     "name": "stdout",
     "output_type": "stream",
     "text": [
      "\n"
     ]
    }
   ],
   "source": [
    "%%R\n",
    "\n",
    "library(mongolite)\n",
    "coll <- mongo(\"NYfood\", url = \"mongodb://localhost:27017/food\")\n",
    "print(coll)"
   ]
  }
 ],
 "metadata": {
  "jupytext": {
   "cell_metadata_filter": "-all",
   "formats": "md:myst",
   "text_representation": {
    "extension": ".md",
    "format_name": "myst",
    "format_version": 0.12,
    "jupytext_version": "1.9.1"
   }
  },
  "kernelspec": {
   "display_name": "Python 3",
   "language": "python",
   "name": "python3"
  },
  "language_info": {
   "codemirror_mode": {
    "name": "ipython",
    "version": 3
   },
   "file_extension": ".py",
   "mimetype": "text/x-python",
   "name": "python",
   "nbconvert_exporter": "python",
   "pygments_lexer": "ipython3",
   "version": "3.8.7"
  },
  "source_map": [
   14,
   28,
   35,
   48,
   54
  ]
 },
 "nbformat": 4,
 "nbformat_minor": 5
}