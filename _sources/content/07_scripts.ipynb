{
 "cells": [
  {
   "cell_type": "markdown",
   "id": "anonymous-skirt",
   "metadata": {},
   "source": [
    "# Effectuer des requêtes depuis des programmes Python ou R\n",
    "\n",
    "## Requêtes depuis Python : `pymongo`\n",
    "\n",
    "* Auteurs/trices : **TODO**\n",
    "\n",
    "Comment faire pour effectuer les requêtes présentes dans les chapitres 1 à 6 avec `pymongo` ?\n",
    "\n",
    "Le fichier que vous devez modifier pour ce chapitre est `mongo_book/content/07_scripts.md`.\n",
    "\n",
    "Petit exemple ici d'utilisation de `pymongo` :"
   ]
  },
  {
   "cell_type": "code",
   "execution_count": 1,
   "id": "modern-pioneer",
   "metadata": {},
   "outputs": [
    {
     "data": {
      "text/plain": [
       "<pymongo.cursor.Cursor at 0x7f5fbd669af0>"
      ]
     },
     "execution_count": 1,
     "metadata": {},
     "output_type": "execute_result"
    }
   ],
   "source": [
    "from pymongo import MongoClient\n",
    "\n",
    "client = MongoClient(host=\"localhost\", port=1234)\n",
    "db = client.food\n",
    "\n",
    "db.NYfood.find({\"name\": \"/^A/\"})"
   ]
  },
  {
   "cell_type": "markdown",
   "id": "saved-discretion",
   "metadata": {},
   "source": [
    "## Requêtes depuis R : `mongolite`\n",
    "\n",
    "* Auteurs/trices : **TODO**\n",
    "\n",
    "Comment faire pour effectuer les requêtes présentes dans les chapitres 1 à 6 avec `mongolite` ?\n",
    "\n",
    "Le fichier que vous devez modifier pour ce chapitre est `mongo_book/content/07_scripts.md`."
   ]
  },
  {
   "cell_type": "code",
   "execution_count": 2,
   "id": "focal-garlic",
   "metadata": {
    "tags": [
     "hide-cell"
    ]
   },
   "outputs": [
    {
     "name": "stderr",
     "output_type": "stream",
     "text": [
      "/opt/hostedtoolcache/Python/3.8.7/x64/lib/python3.8/site-packages/rpy2/ipython/rmagic.py:81: UserWarning: The Python package `pandas` is strongly recommended when using `rpy2.ipython`. Unfortunately it could not be loaded, as we did not manage to load `numpy` in the first place (error: No module named 'numpy').\n",
      "  warnings.warn('The Python package `pandas` is strongly '\n"
     ]
    }
   ],
   "source": [
    "%load_ext rpy2.ipython"
   ]
  },
  {
   "cell_type": "code",
   "execution_count": 3,
   "id": "after-magnet",
   "metadata": {},
   "outputs": [
    {
     "name": "stderr",
     "output_type": "stream",
     "text": [
      "R[write to console]: Error in library(mongolite) : there is no package called ‘mongolite’\n",
      "\n"
     ]
    },
    {
     "name": "stderr",
     "output_type": "stream",
     "text": [
      "R[write to console]: In addition: \n"
     ]
    },
    {
     "name": "stderr",
     "output_type": "stream",
     "text": [
      "R[write to console]: Warning message:\n",
      "\n"
     ]
    },
    {
     "name": "stderr",
     "output_type": "stream",
     "text": [
      "R[write to console]: package ‘tools’ was built under R version 4.0.4 \n",
      "\n"
     ]
    },
    {
     "name": "stdout",
     "output_type": "stream",
     "text": [
      "\n",
      "Error in library(mongolite) : there is no package called ‘mongolite’\n"
     ]
    }
   ],
   "source": [
    "%%R\n",
    "\n",
    "library(mongolite)\n",
    "coll <- mongo(\"NYfood\", url = \"mongodb://localhost:1234/food\")\n",
    "print(coll)"
   ]
  }
 ],
 "metadata": {
  "jupytext": {
   "cell_metadata_filter": "-all",
   "formats": "md:myst",
   "text_representation": {
    "extension": ".md",
    "format_name": "myst",
    "format_version": 0.12,
    "jupytext_version": "1.9.1"
   }
  },
  "kernelspec": {
   "display_name": "Python 3",
   "language": "python",
   "name": "python3"
  },
  "language_info": {
   "codemirror_mode": {
    "name": "ipython",
    "version": 3
   },
   "file_extension": ".py",
   "mimetype": "text/x-python",
   "name": "python",
   "nbconvert_exporter": "python",
   "pygments_lexer": "ipython3",
   "version": "3.8.7"
  },
  "source_map": [
   14,
   28,
   35,
   48,
   54
  ]
 },
 "nbformat": 4,
 "nbformat_minor": 5
}