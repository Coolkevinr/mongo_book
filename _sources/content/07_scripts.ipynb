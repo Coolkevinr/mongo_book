{
 "cells": [
  {
   "cell_type": "markdown",
   "id": "right-possible",
   "metadata": {},
   "source": [
    "# Effectuer des requêtes depuis des programmes Python ou R\n",
    "\n",
    "## Requêtes depuis Python : `pymongo`\n",
    "\n",
    "* Auteurs/trices : **TODO**\n",
    "\n",
    "Comment faire pour effectuer les requêtes présentes dans les chapitres 1 à 6 avec `pymongo` ?\n",
    "\n",
    "Le fichier que vous devez modifier pour ce chapitre est `mongo_book/content/07_scripts.md`.\n",
    "\n",
    "Petit exemple ici d'utilisation de `pymongo` :"
   ]
  },
  {
   "cell_type": "code",
   "execution_count": 1,
   "id": "black-judges",
   "metadata": {},
   "outputs": [
    {
     "ename": "ModuleNotFoundError",
     "evalue": "No module named 'pymongo'",
     "output_type": "error",
     "traceback": [
      "\u001b[0;31m---------------------------------------------------------------------------\u001b[0m",
      "\u001b[0;31mModuleNotFoundError\u001b[0m                       Traceback (most recent call last)",
      "\u001b[0;32m<ipython-input-1-175c9b165ed6>\u001b[0m in \u001b[0;36m<module>\u001b[0;34m\u001b[0m\n\u001b[0;32m----> 1\u001b[0;31m \u001b[0;32mfrom\u001b[0m \u001b[0mpymongo\u001b[0m \u001b[0;32mimport\u001b[0m \u001b[0mMongoClient\u001b[0m\u001b[0;34m\u001b[0m\u001b[0;34m\u001b[0m\u001b[0m\n\u001b[0m\u001b[1;32m      2\u001b[0m \u001b[0;34m\u001b[0m\u001b[0m\n\u001b[1;32m      3\u001b[0m \u001b[0mclient\u001b[0m \u001b[0;34m=\u001b[0m \u001b[0mMongoClient\u001b[0m\u001b[0;34m(\u001b[0m\u001b[0mhost\u001b[0m\u001b[0;34m=\u001b[0m\u001b[0;34m\"localhost\"\u001b[0m\u001b[0;34m,\u001b[0m \u001b[0mport\u001b[0m\u001b[0;34m=\u001b[0m\u001b[0;36m27017\u001b[0m\u001b[0;34m)\u001b[0m\u001b[0;34m\u001b[0m\u001b[0;34m\u001b[0m\u001b[0m\n\u001b[1;32m      4\u001b[0m \u001b[0mdb\u001b[0m \u001b[0;34m=\u001b[0m \u001b[0mclient\u001b[0m\u001b[0;34m.\u001b[0m\u001b[0mfood\u001b[0m\u001b[0;34m\u001b[0m\u001b[0;34m\u001b[0m\u001b[0m\n\u001b[1;32m      5\u001b[0m \u001b[0;34m\u001b[0m\u001b[0m\n",
      "\u001b[0;31mModuleNotFoundError\u001b[0m: No module named 'pymongo'"
     ]
    }
   ],
   "source": [
    "from pymongo import MongoClient\n",
    "\n",
    "client = MongoClient(host=\"localhost\", port=27017)\n",
    "db = client.food\n",
    "\n",
    "for doc in db.NYfood.find({\"name\": \"/^A/\"})[:10]:\n",
    "  print(doc)"
   ]
  },
  {
   "cell_type": "markdown",
   "id": "printable-illinois",
   "metadata": {},
   "source": [
    "## Requêtes depuis R : `mongolite`\n",
    "\n",
    "* Auteurs/trices : **TODO**\n",
    "\n",
    "Comment faire pour effectuer les requêtes présentes dans les chapitres 1 à 6 avec `mongolite` ?\n",
    "\n",
    "Le fichier que vous devez modifier pour ce chapitre est `mongo_book/content/07_scripts.md`."
   ]
  },
  {
   "cell_type": "code",
   "execution_count": null,
   "id": "statistical-quick",
   "metadata": {
    "tags": [
     "hide-cell"
    ]
   },
   "outputs": [],
   "source": [
    "%load_ext rpy2.ipython"
   ]
  },
  {
   "cell_type": "markdown",
   "id": "dressed-north",
   "metadata": {},
   "source": [
    "<!-- ```{code-cell} python3\n",
    "%%R\n",
    "install.packages(\"mongolite\")\n",
    "``` -->"
   ]
  }
 ],
 "metadata": {
  "jupytext": {
   "cell_metadata_filter": "-all",
   "formats": "md:myst",
   "text_representation": {
    "extension": ".md",
    "format_name": "myst",
    "format_version": 0.12,
    "jupytext_version": "1.9.1"
   }
  },
  "kernelspec": {
   "display_name": "Python 3",
   "language": "python",
   "name": "python3"
  },
  "language_info": {
   "codemirror_mode": {
    "name": "ipython",
    "version": 3
   },
   "file_extension": ".py",
   "mimetype": "text/x-python",
   "name": "python",
   "nbconvert_exporter": "python",
   "pygments_lexer": "ipython3",
   "version": "3.8.7"
  },
  "source_map": [
   14,
   28,
   36,
   49,
   53
  ]
 },
 "nbformat": 4,
 "nbformat_minor": 5
}