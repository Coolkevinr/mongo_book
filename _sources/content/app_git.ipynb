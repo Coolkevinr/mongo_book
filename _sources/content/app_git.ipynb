{
 "cells": [
  {
   "cell_type": "markdown",
   "id": "gothic-peace",
   "metadata": {},
   "source": [
    "(sec:git)=\n",
    "# Annexe B : Utilisation de `git`\n",
    "\n",
    "Pour rédiger collectivement ces notes de cours, vous allez utiliser un\n",
    "gestionnaire de versions appelé `git`.\n",
    "Cette annexe présente les bases du fonctionnement de `git` dans le but de vous\n",
    "permettre de contribuer à la rédaction de ce document.\n",
    "\n",
    "## Le principe des gestionnaires de version\n",
    "\n",
    "La gestion de versions est un procédé qui permet de conserver toutes les\n",
    "versions (ou \"révisions\") d'un ensemble de fichiers.\n",
    "Chaque modification ou ensemble de modifications sur un fichier crée une\n",
    "nouvelle version de ce fichier.\n",
    "Cela s'avère particulièrement utile dans le cadre de fichiers édités de manière\n",
    "collaborative : chaque utilisateur peut amener des modifications et créer\n",
    "de nouvelles versions et, au besoin, on peut revenir en arrière à une\n",
    "version précédente.\n",
    "\n",
    "Contrairement à des systèmes d'édition collaborative synchrone\n",
    "(type Google Docs), l'idée des gestionnaires de version dont on parlera ici\n",
    "est que chacun puisse travailler sur sa version\n",
    "de son côté (sans forcément être connecté à internet).\n",
    "Lorsque plusieurs utilisateurs modifient la même partie d'un fichier,\n",
    "cela peut mener à ce que l'on appelle des **conflits de versions** :\n",
    "nous verrons [plus bas](sec:conflits) comment gérer ces conflits.\n",
    "\n",
    "Les systèmes de gestion de version sont très utilisés dans le cadre de projets\n",
    "logiciels pour maintenir les fichiers de code source, mais peuvent être utilisés\n",
    "plus largement (comme dans le cas de ces notes de cours rédigées\n",
    "collectivement).\n",
    "\n",
    "### Les branches\n",
    "\n",
    "Un aspect important de ces systèmes est la notion de **branche**.\n",
    "Pour comprendre cette notion, prenons un exemple :\n",
    "\n",
    "```{admonition} Exemple de branches\n",
    "\n",
    "Supposons que Mme X travaille sur un document en utilisant une gestionnaire\n",
    "de version.\n",
    "Son document comporte les chapitres A, B et C.\n",
    "Elle travaille, par défaut, sur la branche principale (que l'on appellera\n",
    "`main`, pour \"principale\", ici).\n",
    "Puis, à un certain point, elle se dit qu'elle essaierait bien de voir ce que\n",
    "donnerait la ré-organisation de son document en chapitres ordonnés B, C puis A.\n",
    "Bien sûr, cela va demander un certain nombre de changements dans le document,\n",
    "et comme elle n'est pas sûre du résultat, elle va créer une nouvelle branche\n",
    "auquel elle donnera un nom (par exemple `reordonnancement_chapitres`) pour\n",
    "implémenter ces modifications.\n",
    "\n",
    "Une fois ces modifications mises en oeuvre, deux solutions :\n",
    "\n",
    "- soit Mme X n'est pas satisfaite de la nouvelle organisation, et elle décide\n",
    "finalement de conserver l'organisation initiale qui est toujours disponible sur\n",
    "la branche `main` : il lui suffit alors de rebasculer sur cette branche `main`\n",
    "et de continuer à travailler ;\n",
    "- soit Mme X trouve que cette nouvelle version est meilleure que l'originale\n",
    "et va donc transférer les changements opérés vers la branche `main` : on dit\n",
    "qu'elle _merge_ la branche `reordonnancement_chapitres` dans la branche `main`.\n",
    "```\n",
    "\n",
    "Cette notion de branches permet notamment d'avoir plusieurs collaborateurs d'un\n",
    "même projet qui implémentent leurs modifications dans des branches séparées,\n",
    "lesquelles ne seront intégrées au projet que si le résultat est satisfaisant."
   ]
  },
  {
   "cell_type": "markdown",
   "id": "quick-solid",
   "metadata": {},
   "source": [
    "## Le logiciel `git`\n",
    "\n",
    "Pour l'édition collaborative de ce document, nous allons utiliser `git`,\n",
    "qui est une référence en termes de logiciels de gestion de version.\n",
    "\n",
    "Tout d'abord, un peu de vocabulaire.\n",
    "Un **dépôt** est un \"projet\" `git` : il peut contenir plusieurs **branches**\n",
    "qui, elles-mêmes, contiennent plusieurs versions d'un certain nombre de\n",
    "fichiers.\n",
    "On appelle **commit** un point d'enregistrement des modifications des fichiers\n",
    "d'un dépôt.\n",
    "\n",
    "```{admonition} Ligne de commande\n",
    "\n",
    "Pour mieux comprendre ces concepts, nous introduisons dans la suite\n",
    "des lignes de commande permettant\n",
    "d'accéder à certaines fonctionnalités de base de `git`.\n",
    "Sachez que ces commandes ont toutes des équivalents dans les interfaces\n",
    "graphiques telles que GitHub Desktop (voir [plus bas](sec:gh-desktop)), si vous\n",
    "êtes plus à l'aise avec ces interfaces.\n",
    "```\n",
    "\n",
    "Lorsque l'on a modifié (=créé, modifié ou supprimé) un fichier et que l'on\n",
    "veut que les changements effectués sur ce fichier soient ajoutés au prochain\n",
    "_commit_ que l'on va faire, on écrit :"
   ]
  },
  {
   "cell_type": "code",
   "execution_count": 1,
   "id": "blocked-conditions",
   "metadata": {},
   "outputs": [
    {
     "name": "stderr",
     "output_type": "stream",
     "text": [
      "Code incomplete. Please enter valid and complete code.\n",
      "Continuation prompt functionality not implemented yet.\n",
      "Restarting mongo shell..."
     ]
    }
   ],
   "source": [
    "git add <NOM_DU_FICHIER_MODIFIE>"
   ]
  },
  {
   "cell_type": "markdown",
   "id": "collectible-temple",
   "metadata": {},
   "source": [
    "Notez qu'il faudra ajouter les fichiers dont les modifications sont à prendre\n",
    "en compte avant chaque commit.\n",
    "\n",
    "Pour créer un _commit_ à partir des fichiers précédemment ajoutés, on\n",
    "utilise ensuite la commande :"
   ]
  },
  {
   "cell_type": "code",
   "execution_count": 2,
   "id": "pleasant-recording",
   "metadata": {},
   "outputs": [
    {
     "data": {
      "text/plain": [
       "uncaught exception: SyntaxError: unexpected token: identifier :\r\n",
       "@(shell):1:4"
      ]
     },
     "execution_count": 2,
     "metadata": {},
     "output_type": "execute_result"
    }
   ],
   "source": [
    "git commit -m \"Ajouté une présentation de git dans le document\""
   ]
  },
  {
   "cell_type": "markdown",
   "id": "desperate-monitoring",
   "metadata": {},
   "source": [
    "Cela va donc créer un nouveau point d'enregistrement sur **la version locale**\n",
    "de notre dépôt.\n",
    "On peut s'en rendre compte avec la commande suivante :"
   ]
  },
  {
   "cell_type": "code",
   "execution_count": 3,
   "id": "featured-bradford",
   "metadata": {},
   "outputs": [
    {
     "data": {
      "text/plain": [
       "uncaught exception: SyntaxError: unexpected token: identifier :\r\n",
       "@(shell):1:4"
      ]
     },
     "execution_count": 3,
     "metadata": {},
     "output_type": "execute_result"
    }
   ],
   "source": [
    "git log"
   ]
  },
  {
   "cell_type": "markdown",
   "id": "national-australian",
   "metadata": {},
   "source": [
    "```text\n",
    "commit 724ced693ff4823fe96721970c4a61f80472e122 (HEAD -> main, origin/main)\n",
    "Author: Romain Tavenard <romain.tavenard@univ-rennes2.fr>\n",
    "Date:   Tue Feb 16 13:44:25 2021 +0100\n",
    "\n",
    "    Ajouté une présentation de git dans le document\n",
    "```\n",
    "\n",
    "On voit dans la sortie ci-dessus plusieurs choses :\n",
    "\n",
    "1. le commit en question a un identifiant (`724ced693ff48...`),\n",
    "2. ce commit correspond à la version courante (`HEAD`) de la branche courante\n",
    "`main` du dépôt local,\n",
    "3. cette branche courante du dépôt local est synchronisée avec la branche\n",
    "`main` du dépôt distant qui est ici appelé `origin` (d'où le `origin/main`),\n",
    "4. chaque commit a un auteur, une date et un texte associé.\n",
    "\n",
    "````{admonition} Quels fichiers dans un commit ?\n",
    ":class: tip\n",
    "Avant de déclencher un _commit_, il est préférable de s'assurer que toutes les\n",
    "modifications que l'on souhaite enregistrer ont bien été ajoutées.\n",
    "Cela peut se faire à l'aide de la commande :\n",
    "\n",
    "```bash\n",
    "git status\n",
    "```\n",
    "\n",
    "qui affiche l'état du projet de travail local (branche courante, fichiers sur\n",
    "le point d'être commités, et plus encore).\n",
    "````\n",
    "\n",
    "On remarque de plus que `git log` ne nous informe que sur les commits\n",
    "ayant été enregistrés sur la branche courante.\n",
    "Pour aller voir au delà, on peut lister les branches existantes sur le dépôt :\n",
    "\n",
    "```bash\n",
    "git branch\n",
    "```\n",
    "\n",
    "qui donnera une sortie du type :\n",
    "\n",
    "```text\n",
    "ajout_intro\n",
    "* main\n",
    "truc_super_chouette_avec_un_nom_plus_malin_que_ca\n",
    "```\n",
    "\n",
    "Ici, on voit que l'on est en train de travailler sur la branche `main`\n",
    "(c'est le sens du symbole `*`) et que deux autres branches co-existent.\n",
    "\n",
    "Si l'on souhaite \"basculer\" sur la branche `ajout_intro`, on fera :"
   ]
  },
  {
   "cell_type": "code",
   "execution_count": 4,
   "id": "single-december",
   "metadata": {},
   "outputs": [
    {
     "data": {
      "text/plain": [
       "uncaught exception: SyntaxError: unexpected token: identifier :\r\n",
       "@(shell):1:4"
      ]
     },
     "execution_count": 4,
     "metadata": {},
     "output_type": "execute_result"
    }
   ],
   "source": [
    "git checkout ajout_intro"
   ]
  },
  {
   "cell_type": "markdown",
   "id": "stylish-montreal",
   "metadata": {},
   "source": [
    "````{admonition} Basculer sur une nouvelle branche\n",
    ":class: tip\n",
    "Si l'on souhaite créer une nouvelle branche pour commencer à travailler dessus,\n",
    "on utilisera plutôt :\n",
    "\n",
    "```bash\n",
    "git checkout -b <NOM_DE_LA_NOUVELLE_BRANCHE>\n",
    "```\n",
    "````\n",
    "\n",
    "À ce moment, tous les fichiers du répertoire se mettent à jour pour\n",
    "correspondre au contenu tel qu'enregistré dans le dernier commit de la branche\n",
    "`ajout_intro`.\n",
    "Supposons que l'on ait fait un certain nombre de modifications\n",
    "(**enregistrées dans des commits !**)\n",
    "qui nous semblent satisfaisantes dans cette branche, on pourra vouloir la\n",
    "_merger_ (vive le franglais!) dans la branche principale avec :\n",
    "\n",
    "```bash\n",
    "git checkout main\n",
    "git merge ajout_intro\n",
    "```\n",
    "\n",
    "La première de ces deux commandes demande de revenir sur la branche `main`\n",
    "et la seconde demande d'y intégrer les changements issus de la branche\n",
    "`ajout_intro`.\n",
    "\n",
    "Toutes les commandes listées ci-dessus permettent de travailler avec des\n",
    "versions locales des branches d'un dépôt.\n",
    "Toutefois, lorsque l'on travaille de manière collaborative, on aura recours à\n",
    "un dépôt distant avec lequel les différent(e)s contributeurs/trices du projet\n",
    "se synchroniseront régulièrement.\n",
    "Typiquement, dans notre cas, ce dépôt distant sera hébergé par GitHub (voir\n",
    "[plus bas](sec:github)).\n",
    "\n",
    "La première étape sera donc de récupérer le code hébergé sur le dépôt distant\n",
    "pour créer votre dépôt local :"
   ]
  },
  {
   "cell_type": "code",
   "execution_count": 5,
   "id": "fatal-answer",
   "metadata": {},
   "outputs": [
    {
     "name": "stderr",
     "output_type": "stream",
     "text": [
      "Code incomplete. Please enter valid and complete code.\n",
      "Continuation prompt functionality not implemented yet.\n",
      "Restarting mongo shell..."
     ]
    }
   ],
   "source": [
    "git clone <LIEN_VERS_LE_DEPOT_DISTANT> <NOM_DU_REPERTOIRE_A_CREER>"
   ]
  },
  {
   "cell_type": "markdown",
   "id": "distinct-cement",
   "metadata": {},
   "source": [
    "où `<LIEN_VERS_LE_DEPOT_DISTANT>` est une URL se terminant par `.git`\n",
    "(qui vous sera fournie par GitHub).\n",
    "\n",
    "Lorsque l'on souhaite envoyer nos modifications locales (celles correspondant\n",
    "au dernier commit enregistré sur la branche courante) vers le dépôt distant,\n",
    "on exécutera :"
   ]
  },
  {
   "cell_type": "code",
   "execution_count": 6,
   "id": "elementary-archives",
   "metadata": {},
   "outputs": [
    {
     "name": "stderr",
     "output_type": "stream",
     "text": [
      "Code incomplete. Please enter valid and complete code.\n",
      "Continuation prompt functionality not implemented yet.\n",
      "Restarting mongo shell..."
     ]
    }
   ],
   "source": [
    "git push origin <NOM_DE_LA_BRANCHE_CIBLE_SUR_LE_DEPOT_DISTANT>"
   ]
  },
  {
   "cell_type": "markdown",
   "id": "prescription-strain",
   "metadata": {},
   "source": [
    "Dans la commande ci-dessus, `origin` est un nom permettant d'identifier\n",
    "le dépôt distant (il est courant de nommer ce dépôt `origin`) et le deuxième\n",
    "argument de la commande `push` est le nom de la branche cible sur le dépôt\n",
    "distant (ce sera le même\n",
    "que le nom que vous utilisez en local, pour éviter de vous mélanger les\n",
    "pinceaux).\n",
    "\n",
    "De même, lorsque des modifications ont été apportées sur le dépôt distant\n",
    "et que vous souhaitez les incoporer à votre dépôt local, vous utiliserez la\n",
    "commande :"
   ]
  },
  {
   "cell_type": "code",
   "execution_count": 7,
   "id": "dense-sunday",
   "metadata": {},
   "outputs": [
    {
     "data": {
      "text/plain": [
       "---\r\n",
       "The server generated these startup warnings when booting: \r\n",
       "        2021-02-22T08:34:09.813+00:00: Using the XFS filesystem is strongly recommended with the WiredTiger storage engine. See http://dochub.mongodb.org/core/prodnotes-filesystem\r\n",
       "        2021-02-22T08:34:10.479+00:00: Access control is not enabled for the database. Read and write access to data and configuration is unrestricted\r\n",
       "        2021-02-22T08:34:10.479+00:00: /sys/kernel/mm/transparent_hugepage/enabled is 'always'. We suggest setting it to 'never'\r\n",
       "---\r\n",
       "---\r\n",
       "        Enable MongoDB's free cloud-based monitoring service, which will then receive and display\r\n",
       "        metrics about your deployment (disk utilization, CPU, operation statistics, etc).\r\n",
       "\r\n",
       "        The monitoring data will be available on a MongoDB website with a unique URL accessible to you\r\n",
       "        and anyone you share the URL with. MongoDB may use this information to make product\r\n",
       "        improvements and to suggest MongoDB products and deployment options to you.\r\n",
       "\r\n",
       "        To enable free monitoring, run the following command: db.enableFreeMonitoring()\r\n",
       "        To permanently disable this reminder, run the following command: db.disableFreeMonitoring()\r\n",
       "---"
      ]
     },
     "execution_count": 7,
     "metadata": {},
     "output_type": "execute_result"
    }
   ],
   "source": [
    "git pull origin <NOM_DE_LA_BRANCHE_CIBLE_SUR_LE_DEPOT_DISTANT>"
   ]
  },
  {
   "cell_type": "markdown",
   "id": "square-stationery",
   "metadata": {},
   "source": [
    "(sec:conflits)=\n",
    "### La gestion des conflits\n",
    "\n",
    "Lorsque plusieurs personnes travaillent sur un même projet, il se peut qu'elles\n",
    "modifient les mêmes fichiers. Tant qu'elles ne travaillent pas sur la même\n",
    "partie du fichier, `git` sera capable de faire une synthèse de leurs\n",
    "modifications automatiquement, lors des étapes de `merge` et de `pull`."
   ]
  },
  {
   "cell_type": "markdown",
   "id": "august-french",
   "metadata": {},
   "source": [
    "Si par contre ces personnes\n",
    "modifient un même morceau d'un même fichier de deux manières différentes, qui ne\n",
    "sont pas compatibles entre elles, on dit qu'il y a un conflit entre les\n",
    "versions de ces deux personnes.\n",
    "Il va falloir décider si l'on garde l'une des deux versions ou l'autre, ou bien\n",
    "si l'on propose une synthèse de ces deux versions.\n",
    "En `git`, les conflits sont indiqués comme suit dans les fichiers source\n",
    "concernés :\n",
    "\n",
    "```diff\n",
    "Ici, du texte commun aux versions des deux collaborateurs.\n",
    "\n",
    ">>>>>>>>>optionA\n",
    "Ici, le texte correspondant à la proposition de l'un(e) des\n",
    "collaborateurs/trices.\n",
    "===========\n",
    "Ici, le texte correspondant à la proposition de l'autre collaborateur/trice.\n",
    "<<<<<<<<<<optionB\n",
    "\n",
    "Ici, du texte commun aux versions des deux collaborateurs.\n",
    "```\n",
    "\n",
    "où `optionA` et `optionB` sont des identifiants des deux versions en conflit\n",
    "(par exemple les noms des branches concernées).\n",
    "\n",
    "La résolution du conflit consistera donc à remplacer la section entre\n",
    "`>>>>>>>>>optionA` et `<<<<<<<<<<optionB` par la meilleure synthèse possible\n",
    "des deux propositions.\n",
    "\n",
    "````{admonition} Cas d'usage\n",
    "\n",
    "Supposons que l'on ait un dépôt local dont la branche principale (`main`)\n",
    "ne contienne qu'un fichier `texte.md` dont le contenu est :\n",
    "\n",
    "```text\n",
    "Ceci est le seul fichier de ce dépôt\n",
    "```\n",
    "\n",
    "On souhaite se mettre à travailler dessus, et on crée pour cela une branche :\n",
    "\n",
    "```{code-cell}\n",
    "git checkout -b super_modifs\n",
    "```\n",
    "\n",
    "Dans cette branche, on modifie le contenu du fichier comme suit :\n",
    "\n",
    "```text\n",
    "Ceci est le seul et unique fichier de ce dépôt\n",
    "```\n",
    "\n",
    "On fait un commit, puis on retourne sur la branche principale (`main`).\n",
    "\n",
    "Au lieu de tout de suite merger le contenu de la branche `super_modifs`, on\n",
    "reprend le fichier tel qu'il est stocké dans la branche `main` et on le modifie\n",
    "pour obtenir :\n",
    "\n",
    "```text\n",
    "Ceci est le seul fichier de ce super dépôt\n",
    "```\n",
    "\n",
    "Là encore, on commit notre changement, puis on essaie de merger le contenu de\n",
    "la branche `super_modifs` :\n",
    "\n",
    "```{code-cell}\n",
    "git merge super_modifs\n",
    "```\n",
    "\n",
    "On obtient le message d'erreur suivant :\n",
    "\n",
    "```\n",
    "Auto-merging texte.md\n",
    "CONFLICT (content): Merge conflict in texte.md\n",
    "Automatic merge failed; fix conflicts and then commit the result.\n",
    "```\n",
    "\n",
    "Et si maintenant, on affiche le contenu de notre fichier, on trouve :\n",
    "\n",
    "```diff\n",
    "<<<<<<< HEAD\n",
    "Ceci est le seul fichier de ce super dépôt\n",
    "=======\n",
    "Ceci est le seul et unique fichier de ce dépôt\n",
    ">>>>>>> super_modifs\n",
    "```\n",
    "\n",
    "`git`, en tentant de merger la branche `super_modifs` dans la branche `main`,\n",
    "a trouvé un conflit et vous l'indique ici.\n",
    "\n",
    "Plus précisément, la partie `HEAD` correspond à la version de la branche\n",
    "courante et la partie `super_modifs` à la version de la branche du même nom.\n",
    "\n",
    "On doit donc manuellement finaliser ce merge en mettant à jour notre fichier\n",
    "pour qu'il contienne :\n",
    "\n",
    "```diff\n",
    "Ceci est le seul et unique fichier de ce super dépôt\n",
    "```\n",
    "\n",
    "Une fois cela fait, on commit le résultat et le tour est joué :\n",
    "\n",
    "```{code-cell}\n",
    "git add texte.md\n",
    "git commit -m \"Finalisation merge super_modifs\"\n",
    "```\n",
    "\n",
    "````\n",
    "\n",
    "(sec:github)=\n",
    "## Le service web GitHub\n",
    "\n",
    "GitHub est un service web qui fournit à la fois des fonctionnalités\n",
    "d'hébergement de dépôts `git` (votre dépôt distant pour ce projet sera donc\n",
    "hébergé sur GitHub) ainsi que des outils supplémentaires de gestion de projet.\n",
    "\n",
    "Pour être très pragmatique, dans le cadre de la rédaction de ce document, vous\n",
    "aurez besoin de :\n",
    "\n",
    "1. vous créer un compte GitHub par étudiant(e) ;\n",
    "2. créer votre propre version du dépôt contenant ce document (on parle de\n",
    "_fork_, et sur la page d'accueil de chaque projet, un lien pour cela\n",
    "est fourni en haut à droite) ;\n",
    "3. cloner votre _fork_ localement, c'est-à-dire sur votre machine (un lien pour\n",
    "cela est indiqué par un bouton vert sur la page d'accueil de votre _fork_) ;\n",
    "4. envoyer vos modifications locales vers votre _fork_ sur GitHub ;\n",
    "5. créer une **Pull Request** sur le dépôt initial (`rtavenar/mongo_book`)\n",
    "pour demander l'intégration de vos changements sur le dépôt de \"référence\".\n",
    "\n",
    "(sec:gh-desktop)=\n",
    "## Le client GitHub Desktop\n",
    "\n",
    "GitHub fournit une interface graphique permettant de manipuler vos dépôts\n",
    "`git`, nommée GitHub Desktop.\n",
    "N'hésitez pas à l'utiliser si les lignes de commande vous font peur.\n",
    "Ce logiciel semble être disponible sur les principaux OS\n",
    "(cf [ce lien](https://github.com/shiftkey/desktop) pour les utilisateurs Linux).\n",
    "\n",
    "## À vous de jouer\n",
    "\n",
    "Une fois les parties de ce document attribuées chacune à un groupe, vous\n",
    "devrez :\n",
    "\n",
    "1. suivre les étapes indiquées [plus haut](sec:github) pour faire une première\n",
    "Pull Request dans laquelle la seule modification est l'ajout de vos noms et\n",
    "prénoms dans l'en-tête du fichier correspondant à votre chapitre\n",
    "(date limite à définir)\n",
    "2. à l'issue du projet, vous aurez une deuxième Pull Request à faire qui\n",
    "permettra de demander l'intégration de votre chapitre rédigé dans l'ouvrage\n",
    "complet\n",
    "(date limite à définir)"
   ]
  }
 ],
 "metadata": {
  "jupytext": {
   "cell_metadata_filter": "-all",
   "formats": "md:myst",
   "text_representation": {
    "extension": ".md",
    "format_name": "myst",
    "format_version": 0.12,
    "jupytext_version": "1.9.1"
   }
  },
  "kernelspec": {
   "display_name": "IMongo",
   "language": "",
   "name": "imongo"
  },
  "language_info": {
   "codemirror_mode": "shell",
   "file_extension": ".js",
   "mimetype": "text/x-mongodb",
   "name": "javascript"
  },
  "source_map": [
   14,
   82,
   110,
   112,
   120,
   122,
   128,
   130,
   184,
   186,
   226,
   228,
   237,
   239,
   252,
   254,
   264
  ]
 },
 "nbformat": 4,
 "nbformat_minor": 5
}